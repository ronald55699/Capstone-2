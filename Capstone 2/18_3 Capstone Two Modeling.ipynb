{
 "cells": [
  {
   "cell_type": "markdown",
   "metadata": {},
   "source": [
    "# 18.3  Capstone Two: Modeling"
   ]
  },
  {
   "cell_type": "markdown",
   "metadata": {},
   "source": [
    "### Step 1: Importing and Preprocessing Data"
   ]
  },
  {
   "cell_type": "code",
   "execution_count": 1,
   "metadata": {},
   "outputs": [],
   "source": [
    "from sklearn.model_selection import train_test_split\n",
    "import pandas as pd\n",
    "import numpy as np\n",
    "import os\n",
    "import matplotlib.pyplot as plt\n",
    "import seaborn as sns\n",
    "from sklearn.decomposition import PCA\n",
    "from sklearn.preprocessing import scale\n",
    "from sklearn.preprocessing import StandardScaler\n",
    "from sklearn.metrics import r2_score\n",
    "from sklearn.linear_model import LinearRegression\n",
    "from sklearn.feature_selection import RFECV\n",
    "from sklearn.model_selection import train_test_split, cross_validate, GridSearchCV, learning_curve\n",
    "from sklearn.ensemble import RandomForestRegressor\n",
    "\n",
    "\n",
    "\n",
    "import statsmodels.api as sm"
   ]
  },
  {
   "cell_type": "code",
   "execution_count": 2,
   "metadata": {},
   "outputs": [],
   "source": [
    "#Loading the two csv with and without dummy variables (one-hot variable)\n",
    "df = pd.read_csv('data/insurance_r1.csv') \n",
    "df_r = pd.read_csv('data/insurance_regression.csv') "
   ]
  },
  {
   "cell_type": "code",
   "execution_count": 3,
   "metadata": {},
   "outputs": [],
   "source": [
    "df_r['SW'] = df_r['SW'].astype(\"category\")\n",
    "df_r['SE'] = df_r['SE'].astype(\"category\")\n",
    "df_r['NW'] = df_r['NW'].astype(\"category\")\n",
    "df_r['NE'] = df_r['NE'].astype(\"category\")\n",
    "df_r['children_0'] = df_r['children_0'].astype(\"category\")\n",
    "df_r['children_1'] = df_r['children_1'].astype(\"category\")\n",
    "df_r['children_2'] = df_r['children_2'].astype(\"category\")\n",
    "df_r['children_3'] = df_r['children_3'].astype(\"category\")\n",
    "df_r['children_4'] = df_r['children_4'].astype(\"category\")\n",
    "df_r['children_5'] = df_r['children_5'].astype(\"category\")\n",
    "df_r['smoker'] = df_r['smoker'].astype(\"category\")\n",
    "df_r['sex'] = df_r['sex'].astype(\"category\")\n"
   ]
  },
  {
   "cell_type": "code",
   "execution_count": 4,
   "metadata": {},
   "outputs": [],
   "source": [
    "X_train, X_test, y_train, y_test = train_test_split(df_r.drop('charges',axis=1), \n",
    "                                                    df_r.charges, test_size=0.3, \n",
    "                                                    random_state=47)"
   ]
  },
  {
   "cell_type": "code",
   "execution_count": 5,
   "metadata": {},
   "outputs": [
    {
     "name": "stderr",
     "output_type": "stream",
     "text": [
      "<ipython-input-5-5c95f0f04a88>:4: SettingWithCopyWarning: \n",
      "A value is trying to be set on a copy of a slice from a DataFrame.\n",
      "Try using .loc[row_indexer,col_indexer] = value instead\n",
      "\n",
      "See the caveats in the documentation: https://pandas.pydata.org/pandas-docs/stable/user_guide/indexing.html#returning-a-view-versus-a-copy\n",
      "  X_train_s[['age','bmi']] = scaler.transform(X_train[['age','bmi']])\n",
      "C:\\ProgramData\\Anaconda3\\lib\\site-packages\\pandas\\core\\indexing.py:966: SettingWithCopyWarning: \n",
      "A value is trying to be set on a copy of a slice from a DataFrame.\n",
      "Try using .loc[row_indexer,col_indexer] = value instead\n",
      "\n",
      "See the caveats in the documentation: https://pandas.pydata.org/pandas-docs/stable/user_guide/indexing.html#returning-a-view-versus-a-copy\n",
      "  self.obj[item] = s\n"
     ]
    }
   ],
   "source": [
    "scaler = StandardScaler()\n",
    "scaler.fit(X_train[['age','bmi']])\n",
    "X_train_s = X_train[['age','bmi']]\n",
    "X_train_s[['age','bmi']] = scaler.transform(X_train[['age','bmi']])\n",
    "\n",
    "X_train[['age','bmi']] = X_train_s[['age','bmi']]"
   ]
  },
  {
   "cell_type": "code",
   "execution_count": 6,
   "metadata": {},
   "outputs": [
    {
     "name": "stderr",
     "output_type": "stream",
     "text": [
      "<ipython-input-6-0783e132a876>:3: SettingWithCopyWarning: \n",
      "A value is trying to be set on a copy of a slice from a DataFrame.\n",
      "Try using .loc[row_indexer,col_indexer] = value instead\n",
      "\n",
      "See the caveats in the documentation: https://pandas.pydata.org/pandas-docs/stable/user_guide/indexing.html#returning-a-view-versus-a-copy\n",
      "  X_test_s[['age','bmi']] = scaler.transform(X_test[['age','bmi']])\n",
      "C:\\ProgramData\\Anaconda3\\lib\\site-packages\\pandas\\core\\indexing.py:966: SettingWithCopyWarning: \n",
      "A value is trying to be set on a copy of a slice from a DataFrame.\n",
      "Try using .loc[row_indexer,col_indexer] = value instead\n",
      "\n",
      "See the caveats in the documentation: https://pandas.pydata.org/pandas-docs/stable/user_guide/indexing.html#returning-a-view-versus-a-copy\n",
      "  self.obj[item] = s\n"
     ]
    }
   ],
   "source": [
    "X_test_s = X_test[['age','bmi']]\n",
    "\n",
    "X_test_s[['age','bmi']] = scaler.transform(X_test[['age','bmi']])\n",
    "\n",
    "X_test[['age','bmi']] = X_test_s[['age','bmi']]"
   ]
  },
  {
   "cell_type": "markdown",
   "metadata": {},
   "source": [
    "### Part 1: Predicting Medical Cost - Continuous Value"
   ]
  },
  {
   "cell_type": "markdown",
   "metadata": {},
   "source": [
    "### Model 1.1 -  Ordinary Least Squares (OLS)"
   ]
  },
  {
   "cell_type": "markdown",
   "metadata": {},
   "source": [
    "Initial Model adopting all available Features"
   ]
  },
  {
   "cell_type": "code",
   "execution_count": 7,
   "metadata": {},
   "outputs": [],
   "source": [
    "#Preprocessing Data for OLS\n",
    "X_train = pd.get_dummies(data=X_train, drop_first=True)\n",
    "X_test = pd.get_dummies(data=X_test, drop_first=True)\n",
    "X_train = sm.add_constant(X_train)\n",
    "X_test = sm.add_constant(X_test)"
   ]
  },
  {
   "cell_type": "code",
   "execution_count": 8,
   "metadata": {},
   "outputs": [
    {
     "data": {
      "text/html": [
       "<table class=\"simpletable\">\n",
       "<caption>OLS Regression Results</caption>\n",
       "<tr>\n",
       "  <th>Dep. Variable:</th>         <td>charges</td>     <th>  R-squared:         </th> <td>   0.729</td> \n",
       "</tr>\n",
       "<tr>\n",
       "  <th>Model:</th>                   <td>OLS</td>       <th>  Adj. R-squared:    </th> <td>   0.726</td> \n",
       "</tr>\n",
       "<tr>\n",
       "  <th>Method:</th>             <td>Least Squares</td>  <th>  F-statistic:       </th> <td>   207.1</td> \n",
       "</tr>\n",
       "<tr>\n",
       "  <th>Date:</th>             <td>Sat, 13 Feb 2021</td> <th>  Prob (F-statistic):</th> <td>7.66e-252</td>\n",
       "</tr>\n",
       "<tr>\n",
       "  <th>Time:</th>                 <td>10:34:24</td>     <th>  Log-Likelihood:    </th> <td> -9472.6</td> \n",
       "</tr>\n",
       "<tr>\n",
       "  <th>No. Observations:</th>      <td>   935</td>      <th>  AIC:               </th> <td>1.897e+04</td>\n",
       "</tr>\n",
       "<tr>\n",
       "  <th>Df Residuals:</th>          <td>   922</td>      <th>  BIC:               </th> <td>1.903e+04</td>\n",
       "</tr>\n",
       "<tr>\n",
       "  <th>Df Model:</th>              <td>    12</td>      <th>                     </th>     <td> </td>    \n",
       "</tr>\n",
       "<tr>\n",
       "  <th>Covariance Type:</th>      <td>nonrobust</td>    <th>                     </th>     <td> </td>    \n",
       "</tr>\n",
       "</table>\n",
       "<table class=\"simpletable\">\n",
       "<tr>\n",
       "        <td></td>          <th>coef</th>     <th>std err</th>      <th>t</th>      <th>P>|t|</th>  <th>[0.025</th>    <th>0.975]</th>  \n",
       "</tr>\n",
       "<tr>\n",
       "  <th>const</th>        <td> 6462.7392</td> <td>  305.143</td> <td>   21.179</td> <td> 0.000</td> <td> 5863.884</td> <td> 7061.594</td>\n",
       "</tr>\n",
       "<tr>\n",
       "  <th>age</th>          <td> 3686.3005</td> <td>  202.075</td> <td>   18.242</td> <td> 0.000</td> <td> 3289.720</td> <td> 4082.881</td>\n",
       "</tr>\n",
       "<tr>\n",
       "  <th>bmi</th>          <td> 1772.7240</td> <td>  212.844</td> <td>    8.329</td> <td> 0.000</td> <td> 1355.008</td> <td> 2190.440</td>\n",
       "</tr>\n",
       "<tr>\n",
       "  <th>sex_1</th>        <td>   70.4981</td> <td>  402.658</td> <td>    0.175</td> <td> 0.861</td> <td> -719.735</td> <td>  860.731</td>\n",
       "</tr>\n",
       "<tr>\n",
       "  <th>smoker_1</th>     <td> 2.268e+04</td> <td>  508.044</td> <td>   44.648</td> <td> 0.000</td> <td> 2.17e+04</td> <td> 2.37e+04</td>\n",
       "</tr>\n",
       "<tr>\n",
       "  <th>children_0_1</th> <td>   42.0528</td> <td>  416.949</td> <td>    0.101</td> <td> 0.920</td> <td> -776.227</td> <td>  860.333</td>\n",
       "</tr>\n",
       "<tr>\n",
       "  <th>children_1_1</th> <td>  263.7529</td> <td>  474.098</td> <td>    0.556</td> <td> 0.578</td> <td> -666.684</td> <td> 1194.190</td>\n",
       "</tr>\n",
       "<tr>\n",
       "  <th>children_2_1</th> <td> 1563.5188</td> <td>  523.927</td> <td>    2.984</td> <td> 0.003</td> <td>  535.290</td> <td> 2591.747</td>\n",
       "</tr>\n",
       "<tr>\n",
       "  <th>children_3_1</th> <td>  873.4268</td> <td>  600.356</td> <td>    1.455</td> <td> 0.146</td> <td> -304.796</td> <td> 2051.650</td>\n",
       "</tr>\n",
       "<tr>\n",
       "  <th>children_4_1</th> <td> 2677.4248</td> <td> 1172.073</td> <td>    2.284</td> <td> 0.023</td> <td>  377.184</td> <td> 4977.666</td>\n",
       "</tr>\n",
       "<tr>\n",
       "  <th>children_5_1</th> <td> 1042.5631</td> <td> 1334.109</td> <td>    0.781</td> <td> 0.435</td> <td>-1575.679</td> <td> 3660.805</td>\n",
       "</tr>\n",
       "<tr>\n",
       "  <th>SW_1</th>         <td> 1426.1022</td> <td>  358.018</td> <td>    3.983</td> <td> 0.000</td> <td>  723.478</td> <td> 2128.726</td>\n",
       "</tr>\n",
       "<tr>\n",
       "  <th>SE_1</th>         <td> 1242.4228</td> <td>  364.633</td> <td>    3.407</td> <td> 0.001</td> <td>  526.816</td> <td> 1958.030</td>\n",
       "</tr>\n",
       "<tr>\n",
       "  <th>NW_1</th>         <td> 2113.1498</td> <td>  364.828</td> <td>    5.792</td> <td> 0.000</td> <td> 1397.160</td> <td> 2829.139</td>\n",
       "</tr>\n",
       "<tr>\n",
       "  <th>NE_1</th>         <td> 1681.0644</td> <td>  364.648</td> <td>    4.610</td> <td> 0.000</td> <td>  965.427</td> <td> 2396.702</td>\n",
       "</tr>\n",
       "</table>\n",
       "<table class=\"simpletable\">\n",
       "<tr>\n",
       "  <th>Omnibus:</th>       <td>230.569</td> <th>  Durbin-Watson:     </th> <td>   1.987</td> \n",
       "</tr>\n",
       "<tr>\n",
       "  <th>Prob(Omnibus):</th> <td> 0.000</td>  <th>  Jarque-Bera (JB):  </th> <td> 523.089</td> \n",
       "</tr>\n",
       "<tr>\n",
       "  <th>Skew:</th>          <td> 1.337</td>  <th>  Prob(JB):          </th> <td>2.59e-114</td>\n",
       "</tr>\n",
       "<tr>\n",
       "  <th>Kurtosis:</th>      <td> 5.506</td>  <th>  Cond. No.          </th> <td>1.57e+16</td> \n",
       "</tr>\n",
       "</table><br/><br/>Warnings:<br/>[1] Standard Errors assume that the covariance matrix of the errors is correctly specified.<br/>[2] The smallest eigenvalue is 7.15e-30. This might indicate that there are<br/>strong multicollinearity problems or that the design matrix is singular."
      ],
      "text/plain": [
       "<class 'statsmodels.iolib.summary.Summary'>\n",
       "\"\"\"\n",
       "                            OLS Regression Results                            \n",
       "==============================================================================\n",
       "Dep. Variable:                charges   R-squared:                       0.729\n",
       "Model:                            OLS   Adj. R-squared:                  0.726\n",
       "Method:                 Least Squares   F-statistic:                     207.1\n",
       "Date:                Sat, 13 Feb 2021   Prob (F-statistic):          7.66e-252\n",
       "Time:                        10:34:24   Log-Likelihood:                -9472.6\n",
       "No. Observations:                 935   AIC:                         1.897e+04\n",
       "Df Residuals:                     922   BIC:                         1.903e+04\n",
       "Df Model:                          12                                         \n",
       "Covariance Type:            nonrobust                                         \n",
       "================================================================================\n",
       "                   coef    std err          t      P>|t|      [0.025      0.975]\n",
       "--------------------------------------------------------------------------------\n",
       "const         6462.7392    305.143     21.179      0.000    5863.884    7061.594\n",
       "age           3686.3005    202.075     18.242      0.000    3289.720    4082.881\n",
       "bmi           1772.7240    212.844      8.329      0.000    1355.008    2190.440\n",
       "sex_1           70.4981    402.658      0.175      0.861    -719.735     860.731\n",
       "smoker_1      2.268e+04    508.044     44.648      0.000    2.17e+04    2.37e+04\n",
       "children_0_1    42.0528    416.949      0.101      0.920    -776.227     860.333\n",
       "children_1_1   263.7529    474.098      0.556      0.578    -666.684    1194.190\n",
       "children_2_1  1563.5188    523.927      2.984      0.003     535.290    2591.747\n",
       "children_3_1   873.4268    600.356      1.455      0.146    -304.796    2051.650\n",
       "children_4_1  2677.4248   1172.073      2.284      0.023     377.184    4977.666\n",
       "children_5_1  1042.5631   1334.109      0.781      0.435   -1575.679    3660.805\n",
       "SW_1          1426.1022    358.018      3.983      0.000     723.478    2128.726\n",
       "SE_1          1242.4228    364.633      3.407      0.001     526.816    1958.030\n",
       "NW_1          2113.1498    364.828      5.792      0.000    1397.160    2829.139\n",
       "NE_1          1681.0644    364.648      4.610      0.000     965.427    2396.702\n",
       "==============================================================================\n",
       "Omnibus:                      230.569   Durbin-Watson:                   1.987\n",
       "Prob(Omnibus):                  0.000   Jarque-Bera (JB):              523.089\n",
       "Skew:                           1.337   Prob(JB):                    2.59e-114\n",
       "Kurtosis:                       5.506   Cond. No.                     1.57e+16\n",
       "==============================================================================\n",
       "\n",
       "Warnings:\n",
       "[1] Standard Errors assume that the covariance matrix of the errors is correctly specified.\n",
       "[2] The smallest eigenvalue is 7.15e-30. This might indicate that there are\n",
       "strong multicollinearity problems or that the design matrix is singular.\n",
       "\"\"\""
      ]
     },
     "execution_count": 8,
     "metadata": {},
     "output_type": "execute_result"
    }
   ],
   "source": [
    "model = sm.OLS(y_train,X_train)\n",
    "results = model.fit()\n",
    "results.summary()"
   ]
  },
  {
   "cell_type": "markdown",
   "metadata": {},
   "source": [
    "From the summary report, there are 5 features with P>|t| less than 0.05 which indicates their coefficent are not significantly different with 0 in 95% confident interval."
   ]
  },
  {
   "cell_type": "code",
   "execution_count": 9,
   "metadata": {},
   "outputs": [],
   "source": [
    "y_pred = results.predict(X_test)"
   ]
  },
  {
   "cell_type": "code",
   "execution_count": 10,
   "metadata": {},
   "outputs": [
    {
     "data": {
      "image/png": "[encoded data removed]",
      "text/plain": [
       "<Figure size 432x288 with 1 Axes>"
      ]
     },
     "metadata": {
      "needs_background": "light"
     },
     "output_type": "display_data"
    }
   ],
   "source": [
    "plt.scatter(y_test,y_pred)\n",
    "plt.plot([0,50000],[0,50000],c = 'red')\n",
    "plt.xlabel('actual')\n",
    "plt.ylabel('prediciton')\n",
    "plt.xlim(0, 60000) \n",
    "plt.ylim(0, 60000) \n",
    "plt.show()"
   ]
  },
  {
   "cell_type": "code",
   "execution_count": 11,
   "metadata": {},
   "outputs": [
    {
     "name": "stdout",
     "output_type": "stream",
     "text": [
      "0.7858084305592329 6033.379035930625\n"
     ]
    }
   ],
   "source": [
    "def RMSE(data,predict):\n",
    "    return np.sqrt(np.sum(np.square(data - predict))/ len(data))\n",
    "r2_1 = r2_score(y_test,y_pred)\n",
    "rmse_1 = RMSE(y_test,y_pred)\n",
    "print(r2_1,rmse_1)"
   ]
  },
  {
   "cell_type": "code",
   "execution_count": 12,
   "metadata": {},
   "outputs": [
    {
     "data": {
      "text/plain": [
       "array([0.74191919, 0.75267664, 0.73807811, 0.65529878, 0.71421073])"
      ]
     },
     "execution_count": 12,
     "metadata": {},
     "output_type": "execute_result"
    }
   ],
   "source": [
    "# Cross-validation for checking over-fitting\n",
    "cv_results = cross_validate(LinearRegression(), X_train, y_train, cv=5)\n",
    "cv_scores = cv_results['test_score']\n",
    "\n",
    "cv_scores"
   ]
  },
  {
   "cell_type": "markdown",
   "metadata": {},
   "source": [
    "### Feature Selection - Recursive Feature Elimination and Cross-Validation Selection (RFECV)"
   ]
  },
  {
   "cell_type": "code",
   "execution_count": 13,
   "metadata": {},
   "outputs": [
    {
     "data": {
      "text/plain": [
       "RFECV(cv=5, estimator=LinearRegression())"
      ]
     },
     "execution_count": 13,
     "metadata": {},
     "output_type": "execute_result"
    }
   ],
   "source": [
    "rfc = LinearRegression()\n",
    "rfecv = RFECV(estimator = rfc,cv = 5)\n",
    "rfecv.fit(X_train,y_train)"
   ]
  },
  {
   "cell_type": "code",
   "execution_count": 14,
   "metadata": {},
   "outputs": [
    {
     "name": "stdout",
     "output_type": "stream",
     "text": [
      "Optimal number of features: 6\n",
      "[0.59069904 0.700718   0.70666074 0.71788066 0.7213528  0.72160369\n",
      " 0.72044172 0.72087768 0.72059875 0.7206226  0.72032893 0.72044438\n",
      " 0.7204354  0.72043669 0.72043669]\n"
     ]
    }
   ],
   "source": [
    "print('Optimal number of features: {}'.format(rfecv.n_features_))\n",
    "print(rfecv.grid_scores_)"
   ]
  },
  {
   "cell_type": "code",
   "execution_count": 15,
   "metadata": {},
   "outputs": [
    {
     "data": {
      "image/png": "[encoded data removed]",
      "text/plain": [
       "<Figure size 1152x648 with 1 Axes>"
      ]
     },
     "metadata": {
      "needs_background": "light"
     },
     "output_type": "display_data"
    }
   ],
   "source": [
    "plt.figure(figsize=(16, 9))\n",
    "plt.title('Recursive Feature Elimination with Cross-Validation', fontsize=18, fontweight='bold', pad=20)\n",
    "plt.xlabel('Number of features selected', fontsize=14, labelpad=20)\n",
    "plt.ylabel('% Correct Classification', fontsize=14, labelpad=20)\n",
    "plt.plot(range(1, len(rfecv.grid_scores_) + 1), rfecv.grid_scores_, color='#303F9F', linewidth=3)\n",
    "plt.show()"
   ]
  },
  {
   "cell_type": "code",
   "execution_count": 16,
   "metadata": {},
   "outputs": [
    {
     "name": "stdout",
     "output_type": "stream",
     "text": [
      "[ 0  3  7  8 10 11 12 13 14]\n"
     ]
    }
   ],
   "source": [
    "print(np.where(rfecv.support_ == False)[0])\n",
    "\n",
    "X_train_rfe = X_train.drop(X_train.columns[np.where(rfecv.support_ == False)[0]], axis=1)\n",
    "X_test_rfe = X_test.drop(X_test.columns[np.where(rfecv.support_ == False)[0]], axis=1)"
   ]
  },
  {
   "cell_type": "markdown",
   "metadata": {},
   "source": [
    "From the result of RFECV, the optimal number of features is 6. Then, OLS with the 6 most important features will be constructed."
   ]
  },
  {
   "cell_type": "markdown",
   "metadata": {},
   "source": [
    "### Re-construct OLS by adopting the 6 most important features"
   ]
  },
  {
   "cell_type": "code",
   "execution_count": 17,
   "metadata": {},
   "outputs": [],
   "source": [
    "model = sm.OLS(y_train,X_train_rfe)\n",
    "results = model.fit()\n",
    "results.summary()\n",
    "y_pred = results.predict(X_test_rfe)"
   ]
  },
  {
   "cell_type": "code",
   "execution_count": 18,
   "metadata": {},
   "outputs": [
    {
     "data": {
      "image/png": "[encoded data removed]",
      "text/plain": [
       "<Figure size 432x288 with 1 Axes>"
      ]
     },
     "metadata": {
      "needs_background": "light"
     },
     "output_type": "display_data"
    }
   ],
   "source": [
    "plt.scatter(y_test,y_pred)\n",
    "plt.plot([0,50000],[0,50000],c = 'red')\n",
    "plt.xlabel('actual')\n",
    "plt.ylabel('prediciton')\n",
    "plt.xlim(0, 60000) \n",
    "plt.ylim(0, 60000) \n",
    "plt.show()"
   ]
  },
  {
   "cell_type": "code",
   "execution_count": 19,
   "metadata": {},
   "outputs": [
    {
     "name": "stdout",
     "output_type": "stream",
     "text": [
      "0.6426552867427564 7792.971788732154\n"
     ]
    }
   ],
   "source": [
    "r2_2 = r2_score(y_test,y_pred)\n",
    "rmse_2 = RMSE(y_test,y_pred)\n",
    "print(r2_2,rmse_2)\n",
    "\n"
   ]
  },
  {
   "cell_type": "code",
   "execution_count": 20,
   "metadata": {},
   "outputs": [
    {
     "data": {
      "text/plain": [
       "array([0.74515079, 0.75237186, 0.74044558, 0.65611003, 0.71673524])"
      ]
     },
     "execution_count": 20,
     "metadata": {},
     "output_type": "execute_result"
    }
   ],
   "source": [
    "# Cross-validation for checking over-fitting\n",
    "cv_results = cross_validate(LinearRegression(), X_train_rfe, y_train, cv=5)\n",
    "cv_scores = cv_results['test_score']\n",
    "cv_scores"
   ]
  },
  {
   "cell_type": "markdown",
   "metadata": {},
   "source": [
    "The model performance dropped if we only adopt the 6 most important features. Another approach is that we can only drop the 5 features which P>|t| is less than 0.05."
   ]
  },
  {
   "cell_type": "markdown",
   "metadata": {},
   "source": [
    "### Re-construct OLS by only dropping the 5 features which P>|t| is less than 0.05"
   ]
  },
  {
   "cell_type": "code",
   "execution_count": 21,
   "metadata": {},
   "outputs": [],
   "source": [
    "X_train_p = X_train.drop(['sex_1','children_0_1','children_1_1','children_3_1','children_5_1'],axis = 1)\n",
    "X_test_p = X_test.drop(['sex_1','children_0_1','children_1_1','children_3_1','children_5_1'],axis =1)\n"
   ]
  },
  {
   "cell_type": "code",
   "execution_count": 22,
   "metadata": {},
   "outputs": [],
   "source": [
    "model = sm.OLS(y_train,X_train_p)\n",
    "results = model.fit()\n",
    "results.summary()\n",
    "y_pred = results.predict(X_test_p)"
   ]
  },
  {
   "cell_type": "code",
   "execution_count": 23,
   "metadata": {
    "scrolled": true
   },
   "outputs": [
    {
     "data": {
      "image/png": "[encoded data removed]",
      "text/plain": [
       "<Figure size 432x288 with 1 Axes>"
      ]
     },
     "metadata": {
      "needs_background": "light"
     },
     "output_type": "display_data"
    }
   ],
   "source": [
    "plt.scatter(y_test,y_pred)\n",
    "plt.plot([0,50000],[0,50000],c = 'red')\n",
    "plt.xlabel('actual')\n",
    "plt.ylabel('prediciton')\n",
    "plt.xlim(0, 60000) \n",
    "plt.ylim(0, 60000) \n",
    "plt.show()"
   ]
  },
  {
   "cell_type": "code",
   "execution_count": 24,
   "metadata": {},
   "outputs": [
    {
     "name": "stdout",
     "output_type": "stream",
     "text": [
      "0.7852270668531882 6041.5614558461575\n"
     ]
    }
   ],
   "source": [
    "r2_3 = r2_score(y_test,y_pred)\n",
    "rmse_3 = RMSE(y_test,y_pred)\n",
    "print(r2_3,rmse_3)\n"
   ]
  },
  {
   "cell_type": "code",
   "execution_count": 25,
   "metadata": {},
   "outputs": [
    {
     "data": {
      "text/plain": [
       "array([0.74884514, 0.75186106, 0.73845067, 0.65969583, 0.71449876])"
      ]
     },
     "execution_count": 25,
     "metadata": {},
     "output_type": "execute_result"
    }
   ],
   "source": [
    "# Cross-validation for checking over-fitting\n",
    "cv_results = cross_validate(LinearRegression(), X_train_p, y_train, cv=5)\n",
    "cv_scores = cv_results['test_score']\n",
    "\n",
    "cv_scores"
   ]
  },
  {
   "cell_type": "markdown",
   "metadata": {},
   "source": [
    "### Summary of Model 1.1"
   ]
  },
  {
   "cell_type": "code",
   "execution_count": 26,
   "metadata": {},
   "outputs": [
    {
     "name": "stdout",
     "output_type": "stream",
     "text": [
      "<zip object at 0x000001CE99C8F7C0>\n"
     ]
    }
   ],
   "source": [
    "print(zip((r2_1,r2_2,r2_3),(rmse_1,rmse_2,rmse_3)))"
   ]
  },
  {
   "cell_type": "code",
   "execution_count": 27,
   "metadata": {},
   "outputs": [
    {
     "data": {
      "text/html": [
       "<div>\n",
       "<style scoped>\n",
       "    .dataframe tbody tr th:only-of-type {\n",
       "        vertical-align: middle;\n",
       "    }\n",
       "\n",
       "    .dataframe tbody tr th {\n",
       "        vertical-align: top;\n",
       "    }\n",
       "\n",
       "    .dataframe thead th {\n",
       "        text-align: right;\n",
       "    }\n",
       "</style>\n",
       "<table border=\"1\" class=\"dataframe\">\n",
       "  <thead>\n",
       "    <tr style=\"text-align: right;\">\n",
       "      <th></th>\n",
       "      <th>Model</th>\n",
       "      <th>R2 score</th>\n",
       "      <th>RMSE</th>\n",
       "    </tr>\n",
       "  </thead>\n",
       "  <tbody>\n",
       "    <tr>\n",
       "      <th>1</th>\n",
       "      <td>All Features</td>\n",
       "      <td>0.785808</td>\n",
       "      <td>6033.379036</td>\n",
       "    </tr>\n",
       "    <tr>\n",
       "      <th>2</th>\n",
       "      <td>Best 6 Features</td>\n",
       "      <td>0.642655</td>\n",
       "      <td>7792.971789</td>\n",
       "    </tr>\n",
       "    <tr>\n",
       "      <th>3</th>\n",
       "      <td>Drop 5 Features</td>\n",
       "      <td>0.785227</td>\n",
       "      <td>6041.561456</td>\n",
       "    </tr>\n",
       "  </tbody>\n",
       "</table>\n",
       "</div>"
      ],
      "text/plain": [
       "             Model  R2 score         RMSE\n",
       "1     All Features  0.785808  6033.379036\n",
       "2  Best 6 Features  0.642655  7792.971789\n",
       "3  Drop 5 Features  0.785227  6041.561456"
      ]
     },
     "execution_count": 27,
     "metadata": {},
     "output_type": "execute_result"
    }
   ],
   "source": [
    "scores = pd.DataFrame(zip(('All Features','Best 6 Features','Drop 5 Features'),(r2_1,r2_2,r2_3),(rmse_1,rmse_2,rmse_3)),columns=['Model','R2 score','RMSE'],index=np.arange(1,4))\n",
    "scores"
   ]
  },
  {
   "cell_type": "markdown",
   "metadata": {},
   "source": [
    "The last model (Drop 5 Features) has been adopted as optimal OLS model because of its accuracy and simplicity."
   ]
  },
  {
   "cell_type": "markdown",
   "metadata": {},
   "source": [
    "# Model 1.2 -  Random Forest Regressor"
   ]
  },
  {
   "cell_type": "code",
   "execution_count": 28,
   "metadata": {},
   "outputs": [],
   "source": [
    "X_train, X_test, y_train, y_test = train_test_split(df_r.drop('charges',axis=1), \n",
    "                                                    df_r.charges, test_size=0.3, \n",
    "                                                    random_state=47)"
   ]
  },
  {
   "cell_type": "code",
   "execution_count": 29,
   "metadata": {},
   "outputs": [
    {
     "name": "stderr",
     "output_type": "stream",
     "text": [
      "<ipython-input-29-9b77b75783d1>:4: SettingWithCopyWarning: \n",
      "A value is trying to be set on a copy of a slice from a DataFrame.\n",
      "Try using .loc[row_indexer,col_indexer] = value instead\n",
      "\n",
      "See the caveats in the documentation: https://pandas.pydata.org/pandas-docs/stable/user_guide/indexing.html#returning-a-view-versus-a-copy\n",
      "  X_train_s[['age','bmi']] = scaler.transform(X_train[['age','bmi']])\n",
      "C:\\ProgramData\\Anaconda3\\lib\\site-packages\\pandas\\core\\indexing.py:966: SettingWithCopyWarning: \n",
      "A value is trying to be set on a copy of a slice from a DataFrame.\n",
      "Try using .loc[row_indexer,col_indexer] = value instead\n",
      "\n",
      "See the caveats in the documentation: https://pandas.pydata.org/pandas-docs/stable/user_guide/indexing.html#returning-a-view-versus-a-copy\n",
      "  self.obj[item] = s\n",
      "<ipython-input-29-9b77b75783d1>:9: SettingWithCopyWarning: \n",
      "A value is trying to be set on a copy of a slice from a DataFrame.\n",
      "Try using .loc[row_indexer,col_indexer] = value instead\n",
      "\n",
      "See the caveats in the documentation: https://pandas.pydata.org/pandas-docs/stable/user_guide/indexing.html#returning-a-view-versus-a-copy\n",
      "  X_test_s[['age','bmi']] = scaler.transform(X_test[['age','bmi']])\n",
      "C:\\ProgramData\\Anaconda3\\lib\\site-packages\\pandas\\core\\indexing.py:966: SettingWithCopyWarning: \n",
      "A value is trying to be set on a copy of a slice from a DataFrame.\n",
      "Try using .loc[row_indexer,col_indexer] = value instead\n",
      "\n",
      "See the caveats in the documentation: https://pandas.pydata.org/pandas-docs/stable/user_guide/indexing.html#returning-a-view-versus-a-copy\n",
      "  self.obj[item] = s\n"
     ]
    }
   ],
   "source": [
    "scaler = StandardScaler()\n",
    "scaler.fit(X_train[['age','bmi']])\n",
    "X_train_s = X_train[['age','bmi']]\n",
    "X_train_s[['age','bmi']] = scaler.transform(X_train[['age','bmi']])\n",
    "\n",
    "X_train[['age','bmi']] = X_train_s[['age','bmi']]\n",
    "X_test_s = X_test[['age','bmi']]\n",
    "\n",
    "X_test_s[['age','bmi']] = scaler.transform(X_test[['age','bmi']])\n",
    "\n",
    "X_test[['age','bmi']] = X_test_s[['age','bmi']]"
   ]
  },
  {
   "cell_type": "code",
   "execution_count": 30,
   "metadata": {},
   "outputs": [
    {
     "data": {
      "text/plain": [
       "GridSearchCV(cv=5, estimator=RandomForestRegressor(), n_jobs=-1,\n",
       "             param_grid={'criterion': ['mse', 'mae'],\n",
       "                         'n_estimators': array([  1,   2,   3,   4,   5,   6,   7,   8,   9,  10,  11,  12,  13,\n",
       "        14,  15,  16,  17,  18,  19,  20,  21,  22,  23,  24,  25,  26,\n",
       "        27,  28,  29,  30,  31,  32,  33,  34,  35,  36,  37,  38,  39,\n",
       "        40,  41,  42,  43,  44,  45,  46,  47,  48,  49,  50,  51,  52,\n",
       "        53,  54,  55,  56,  57,  58,  59,  60,  61,  62,  63,  64,  65,\n",
       "        66,  67,  68,  69,  70,  71,  72,  73,  74,  75,  76,  77,  78,\n",
       "        79,...\n",
       "       404, 405, 406, 407, 408, 409, 410, 411, 412, 413, 414, 415, 416,\n",
       "       417, 418, 419, 420, 421, 422, 423, 424, 425, 426, 427, 428, 429,\n",
       "       430, 431, 432, 433, 434, 435, 436, 437, 438, 439, 440, 441, 442,\n",
       "       443, 444, 445, 446, 447, 448, 449, 450, 451, 452, 453, 454, 455,\n",
       "       456, 457, 458, 459, 460, 461, 462, 463, 464, 465, 466, 467, 468,\n",
       "       469, 470, 471, 472, 473, 474, 475, 476, 477, 478, 479, 480, 481,\n",
       "       482, 483, 484, 485, 486, 487, 488, 489, 490, 491, 492, 493, 494,\n",
       "       495, 496, 497, 498, 499])})"
      ]
     },
     "execution_count": 30,
     "metadata": {},
     "output_type": "execute_result"
    }
   ],
   "source": [
    "#GridSearchCV for hyper-parameter tuning\n",
    "model_1_2 = RandomForestRegressor()\n",
    "param_grid = {'n_estimators':np.arange(1,500),'criterion':['mse', 'mae']}\n",
    "rf_cv= GridSearchCV(model_1_2,param_grid,cv=5, n_jobs= -1)\n",
    "rf_cv.fit(X_train,y_train)"
   ]
  },
  {
   "cell_type": "code",
   "execution_count": 31,
   "metadata": {},
   "outputs": [
    {
     "name": "stdout",
     "output_type": "stream",
     "text": [
      "Best Score:0.8240915391313329\n",
      "Best Parameters: {'criterion': 'mse', 'n_estimators': 133}\n"
     ]
    }
   ],
   "source": [
    "print(\"Best Score:\" + str(rf_cv.best_score_))\n",
    "print(\"Best Parameters: \" + str(rf_cv.best_params_))"
   ]
  },
  {
   "cell_type": "code",
   "execution_count": 51,
   "metadata": {},
   "outputs": [
    {
     "data": {
      "text/plain": [
       "RandomForestRegressor(n_estimators=133)"
      ]
     },
     "execution_count": 51,
     "metadata": {},
     "output_type": "execute_result"
    }
   ],
   "source": [
    "model_1_2 = RandomForestRegressor(n_estimators =rf_cv.best_params_['n_estimators'],  criterion = rf_cv.best_params_['criterion'])\n",
    "model_1_2.fit(X_train,y_train)"
   ]
  },
  {
   "cell_type": "code",
   "execution_count": 52,
   "metadata": {},
   "outputs": [],
   "source": [
    "y_pred = model_1_2.predict(X_test)"
   ]
  },
  {
   "cell_type": "code",
   "execution_count": 53,
   "metadata": {},
   "outputs": [
    {
     "data": {
      "image/png": "[encoded data removed]",
      "text/plain": [
       "<Figure size 432x288 with 1 Axes>"
      ]
     },
     "metadata": {
      "needs_background": "light"
     },
     "output_type": "display_data"
    }
   ],
   "source": [
    "plt.scatter(y_test,y_pred)\n",
    "plt.plot([0,50000],[0,50000],c = 'red')\n",
    "plt.xlabel('actual')\n",
    "plt.ylabel('prediciton')\n",
    "plt.xlim(0, 60000) \n",
    "plt.ylim(0, 60000) \n",
    "plt.show()"
   ]
  },
  {
   "cell_type": "code",
   "execution_count": 54,
   "metadata": {},
   "outputs": [
    {
     "name": "stdout",
     "output_type": "stream",
     "text": [
      "0.8621720658262945 4839.807038403653\n"
     ]
    }
   ],
   "source": [
    "r2_4 = r2_score(y_test,y_pred)\n",
    "rmse_4 = RMSE(y_test,y_pred)\n",
    "print(r2_4,rmse_4)"
   ]
  },
  {
   "cell_type": "code",
   "execution_count": 55,
   "metadata": {},
   "outputs": [
    {
     "data": {
      "text/plain": [
       "array([0.82514259, 0.86540471, 0.82042108, 0.77417882, 0.81724907])"
      ]
     },
     "execution_count": 55,
     "metadata": {},
     "output_type": "execute_result"
    }
   ],
   "source": [
    "cv_results = cross_validate(RandomForestRegressor(), X_train, y_train, cv=5)\n",
    "cv_scores = cv_results['test_score']\n",
    "\n",
    "cv_scores"
   ]
  },
  {
   "cell_type": "code",
   "execution_count": 56,
   "metadata": {},
   "outputs": [
    {
     "data": {
      "text/plain": [
       "array([1.37257148e-01, 5.38056846e-03, 2.17470989e-01, 5.93485659e-01,\n",
       "       6.51164109e-03, 5.93639299e-03, 6.01513908e-03, 3.07422876e-03,\n",
       "       2.70641585e-03, 5.54265301e-04, 3.14142467e-03, 4.95065015e-03,\n",
       "       8.11711576e-03, 5.39836162e-03])"
      ]
     },
     "execution_count": 56,
     "metadata": {},
     "output_type": "execute_result"
    }
   ],
   "source": [
    "model_1_2.feature_importances_"
   ]
  },
  {
   "cell_type": "code",
   "execution_count": 58,
   "metadata": {},
   "outputs": [
    {
     "name": "stdout",
     "output_type": "stream",
     "text": [
      "14\n"
     ]
    },
    {
     "data": {
      "image/png": "[encoded data removed]",
      "text/plain": [
       "<Figure size 720x720 with 1 Axes>"
      ]
     },
     "metadata": {
      "needs_background": "light"
     },
     "output_type": "display_data"
    }
   ],
   "source": [
    "feature_importance = model_1_2.feature_importances_\n",
    "# make importances relative to max importance\n",
    "feature_importance = 100.0 * (feature_importance / feature_importance.max())[:15]\n",
    "sorted_idx = np.argsort(feature_importance)[:15]\n",
    "\n",
    "pos = np.arange(sorted_idx.shape[0]) + .5\n",
    "print(pos.size)\n",
    "sorted_idx.size\n",
    "plt.figure(figsize=(10,10))\n",
    "plt.barh(pos, feature_importance[sorted_idx], align='center')\n",
    "plt.yticks(pos, X_train.columns[sorted_idx])\n",
    "plt.xlabel('Relative Importance')\n",
    "plt.title('Variable Importance')\n",
    "plt.show()"
   ]
  },
  {
   "cell_type": "code",
   "execution_count": 59,
   "metadata": {},
   "outputs": [
    {
     "data": {
      "text/plain": [
       "RandomForestRegressor(n_estimators=133)"
      ]
     },
     "execution_count": 59,
     "metadata": {},
     "output_type": "execute_result"
    }
   ],
   "source": [
    "model_1_2 = RandomForestRegressor(n_estimators =rf_cv.best_params_['n_estimators'],  criterion = rf_cv.best_params_['criterion'])\n",
    "model_1_2.fit(X_train[['age','bmi','smoker','NW','children_0','children_1']],y_train)"
   ]
  },
  {
   "cell_type": "code",
   "execution_count": 60,
   "metadata": {},
   "outputs": [],
   "source": [
    "y_pred = model_1_2.predict(X_test[['age','bmi','smoker','NW','children_0','children_1']])"
   ]
  },
  {
   "cell_type": "code",
   "execution_count": 61,
   "metadata": {},
   "outputs": [
    {
     "name": "stdout",
     "output_type": "stream",
     "text": [
      "0.8619351716427944 4843.964504432534\n"
     ]
    }
   ],
   "source": [
    "r2_5 = r2_score(y_test,y_pred)\n",
    "rmse_5 = RMSE(y_test,y_pred)\n",
    "print(r2_5,rmse_5)"
   ]
  },
  {
   "cell_type": "code",
   "execution_count": 62,
   "metadata": {},
   "outputs": [
    {
     "data": {
      "image/png": "[encoded data removed]",
      "text/plain": [
       "<Figure size 432x288 with 1 Axes>"
      ]
     },
     "metadata": {
      "needs_background": "light"
     },
     "output_type": "display_data"
    }
   ],
   "source": [
    "plt.scatter(y_test,y_pred)\n",
    "plt.plot([0,50000],[0,50000],c = 'red')\n",
    "plt.xlabel('actual')\n",
    "plt.ylabel('prediciton')\n",
    "plt.xlim(0, 60000) \n",
    "plt.ylim(0, 60000) \n",
    "plt.show()"
   ]
  },
  {
   "cell_type": "code",
   "execution_count": 63,
   "metadata": {},
   "outputs": [
    {
     "data": {
      "text/plain": [
       "RFECV(cv=5, estimator=RandomForestRegressor(n_estimators=133))"
      ]
     },
     "execution_count": 63,
     "metadata": {},
     "output_type": "execute_result"
    }
   ],
   "source": [
    "rfc1 = RandomForestRegressor(n_estimators =rf_cv.best_params_['n_estimators'],  criterion = rf_cv.best_params_['criterion'])\n",
    "rfecv1 = RFECV(estimator = rfc1,cv = 5)\n",
    "rfecv1.fit(X_train,y_train)"
   ]
  },
  {
   "cell_type": "code",
   "execution_count": 64,
   "metadata": {},
   "outputs": [
    {
     "name": "stdout",
     "output_type": "stream",
     "text": [
      "Optimal number of features: 6\n"
     ]
    }
   ],
   "source": [
    "print('Optimal number of features: {}'.format(rfecv.n_features_))"
   ]
  },
  {
   "cell_type": "code",
   "execution_count": 65,
   "metadata": {},
   "outputs": [
    {
     "data": {
      "image/png": "[encoded data removed]",
      "text/plain": [
       "<Figure size 1152x648 with 1 Axes>"
      ]
     },
     "metadata": {
      "needs_background": "light"
     },
     "output_type": "display_data"
    }
   ],
   "source": [
    "plt.figure(figsize=(16, 9))\n",
    "plt.title('Recursive Feature Elimination with Cross-Validation', fontsize=18, fontweight='bold', pad=20)\n",
    "plt.xlabel('Number of features selected', fontsize=14, labelpad=20)\n",
    "plt.ylabel('% Correct Classification', fontsize=14, labelpad=20)\n",
    "plt.plot(range(1, len(rfecv1.grid_scores_) + 1), rfecv1.grid_scores_, color='#303F9F', linewidth=3)\n",
    "plt.show()"
   ]
  },
  {
   "cell_type": "markdown",
   "metadata": {},
   "source": [
    "### Summary of Model 1.2"
   ]
  },
  {
   "cell_type": "code",
   "execution_count": 66,
   "metadata": {},
   "outputs": [
    {
     "data": {
      "text/html": [
       "<div>\n",
       "<style scoped>\n",
       "    .dataframe tbody tr th:only-of-type {\n",
       "        vertical-align: middle;\n",
       "    }\n",
       "\n",
       "    .dataframe tbody tr th {\n",
       "        vertical-align: top;\n",
       "    }\n",
       "\n",
       "    .dataframe thead th {\n",
       "        text-align: right;\n",
       "    }\n",
       "</style>\n",
       "<table border=\"1\" class=\"dataframe\">\n",
       "  <thead>\n",
       "    <tr style=\"text-align: right;\">\n",
       "      <th></th>\n",
       "      <th>Model</th>\n",
       "      <th>R2 score</th>\n",
       "      <th>RMSE</th>\n",
       "    </tr>\n",
       "  </thead>\n",
       "  <tbody>\n",
       "    <tr>\n",
       "      <th>1</th>\n",
       "      <td>All Features</td>\n",
       "      <td>0.862172</td>\n",
       "      <td>4839.807038</td>\n",
       "    </tr>\n",
       "    <tr>\n",
       "      <th>2</th>\n",
       "      <td>Best 6 Features</td>\n",
       "      <td>0.861935</td>\n",
       "      <td>4843.964504</td>\n",
       "    </tr>\n",
       "  </tbody>\n",
       "</table>\n",
       "</div>"
      ],
      "text/plain": [
       "             Model  R2 score         RMSE\n",
       "1     All Features  0.862172  4839.807038\n",
       "2  Best 6 Features  0.861935  4843.964504"
      ]
     },
     "execution_count": 66,
     "metadata": {},
     "output_type": "execute_result"
    }
   ],
   "source": [
    "scores_1 = pd.DataFrame(zip(('All Features','Best 6 Features'),(r2_4,r2_5),(rmse_4,rmse_5)),columns=['Model','R2 score','RMSE'],index=np.arange(1,3))\n",
    "scores_1"
   ]
  },
  {
   "cell_type": "markdown",
   "metadata": {},
   "source": [
    "From the above result, the R2 score and RMSE of the two models are very close. Hence,the model adopting best 6 features is selected due to the trade off of accuracy and simplicity"
   ]
  },
  {
   "cell_type": "markdown",
   "metadata": {},
   "source": [
    "### Conclusion"
   ]
  },
  {
   "cell_type": "code",
   "execution_count": 67,
   "metadata": {},
   "outputs": [
    {
     "data": {
      "text/html": [
       "<div>\n",
       "<style scoped>\n",
       "    .dataframe tbody tr th:only-of-type {\n",
       "        vertical-align: middle;\n",
       "    }\n",
       "\n",
       "    .dataframe tbody tr th {\n",
       "        vertical-align: top;\n",
       "    }\n",
       "\n",
       "    .dataframe thead th {\n",
       "        text-align: right;\n",
       "    }\n",
       "</style>\n",
       "<table border=\"1\" class=\"dataframe\">\n",
       "  <thead>\n",
       "    <tr style=\"text-align: right;\">\n",
       "      <th></th>\n",
       "      <th>Model</th>\n",
       "      <th>R2 score</th>\n",
       "      <th>RMSE</th>\n",
       "    </tr>\n",
       "  </thead>\n",
       "  <tbody>\n",
       "    <tr>\n",
       "      <th>1</th>\n",
       "      <td>Best OLS</td>\n",
       "      <td>0.785227</td>\n",
       "      <td>6041.561456</td>\n",
       "    </tr>\n",
       "    <tr>\n",
       "      <th>2</th>\n",
       "      <td>Best RF</td>\n",
       "      <td>0.861935</td>\n",
       "      <td>4843.964504</td>\n",
       "    </tr>\n",
       "  </tbody>\n",
       "</table>\n",
       "</div>"
      ],
      "text/plain": [
       "      Model  R2 score         RMSE\n",
       "1  Best OLS  0.785227  6041.561456\n",
       "2   Best RF  0.861935  4843.964504"
      ]
     },
     "execution_count": 67,
     "metadata": {},
     "output_type": "execute_result"
    }
   ],
   "source": [
    "scores_2 = pd.DataFrame(zip(('Best OLS','Best RF'),(r2_3,r2_5),(rmse_3,rmse_5)),columns=['Model','R2 score','RMSE'],index=np.arange(1,3))\n",
    "scores_2"
   ]
  },
  {
   "cell_type": "markdown",
   "metadata": {},
   "source": [
    "Random Forest (adopting best 6 feature) has been selected as the best model"
   ]
  },
  {
   "cell_type": "code",
   "execution_count": null,
   "metadata": {},
   "outputs": [],
   "source": []
  }
 ],
 "metadata": {
  "kernelspec": {
   "display_name": "Python 3",
   "language": "python",
   "name": "python3"
  },
  "language_info": {
   "codemirror_mode": {
    "name": "ipython",
    "version": 3
   },
   "file_extension": ".py",
   "mimetype": "text/x-python",
   "name": "python",
   "nbconvert_exporter": "python",
   "pygments_lexer": "ipython3",
   "version": "3.8.3"
  }
 },
 "nbformat": 4,
 "nbformat_minor": 4
}
